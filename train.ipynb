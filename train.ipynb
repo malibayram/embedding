{
 "cells": [
  {
   "cell_type": "code",
   "execution_count": 2,
   "id": "e1639283",
   "metadata": {},
   "outputs": [
    {
     "name": "stdout",
     "output_type": "stream",
     "text": [
      "0.2.13\n",
      "mps\n"
     ]
    }
   ],
   "source": [
    "import os\n",
    "\n",
    "import json\n",
    "import torch\n",
    "\n",
    "from datetime import datetime\n",
    "from tqdm import tqdm\n",
    "from torch.optim import AdamW\n",
    "from torch.optim.lr_scheduler import LinearLR, CosineAnnealingLR\n",
    "import turkish_tokenizer as tt\n",
    "\n",
    "device = \"cuda\" if torch.cuda.is_available() else \"mps\" if torch.backends.mps.is_available() else \"cpu\"\n",
    "\n",
    "# Tokenizer'ı başlat\n",
    "\n",
    "tr_tokenizer = tt.TurkishTokenizer()\n",
    "print(tt.__version__)\n",
    "print(device)"
   ]
  },
  {
   "cell_type": "code",
   "execution_count": 30,
   "id": "dfb5cd7a",
   "metadata": {},
   "outputs": [
    {
     "name": "stdout",
     "output_type": "stream",
     "text": [
      "loaded model from model_2.pth\n"
     ]
    },
    {
     "data": {
      "text/plain": [
       "Gemma3ForCausalLM(\n",
       "  (model): Gemma3Model(\n",
       "    (embed_tokens): Gemma3ScaledWordEmbedding(32768, 640, padding_idx=0)\n",
       "    (layers): ModuleList(\n",
       "      (0-17): 18 x Gemma3DecoderLayer(\n",
       "        (self_attn): Gemma3Attention(\n",
       "          (q_proj): Linear(in_features=640, out_features=1024, bias=False)\n",
       "          (k_proj): Linear(in_features=640, out_features=256, bias=False)\n",
       "          (v_proj): Linear(in_features=640, out_features=256, bias=False)\n",
       "          (o_proj): Linear(in_features=1024, out_features=640, bias=False)\n",
       "          (q_norm): Gemma3RMSNorm((256,), eps=1e-06)\n",
       "          (k_norm): Gemma3RMSNorm((256,), eps=1e-06)\n",
       "        )\n",
       "        (mlp): Gemma3MLP(\n",
       "          (gate_proj): Linear(in_features=640, out_features=2048, bias=False)\n",
       "          (up_proj): Linear(in_features=640, out_features=2048, bias=False)\n",
       "          (down_proj): Linear(in_features=2048, out_features=640, bias=False)\n",
       "          (act_fn): GELU(approximate='tanh')\n",
       "        )\n",
       "        (input_layernorm): Gemma3RMSNorm((640,), eps=1e-06)\n",
       "        (post_attention_layernorm): Gemma3RMSNorm((640,), eps=1e-06)\n",
       "        (pre_feedforward_layernorm): Gemma3RMSNorm((640,), eps=1e-06)\n",
       "        (post_feedforward_layernorm): Gemma3RMSNorm((640,), eps=1e-06)\n",
       "      )\n",
       "    )\n",
       "    (norm): Gemma3RMSNorm((640,), eps=1e-06)\n",
       "    (rotary_emb): Gemma3RotaryEmbedding()\n",
       "    (rotary_emb_local): Gemma3RotaryEmbedding()\n",
       "  )\n",
       ")"
      ]
     },
     "execution_count": 30,
     "metadata": {},
     "output_type": "execute_result"
    }
   ],
   "source": [
    "from gemma_claude import create_gemma3_model\n",
    "\n",
    "model_claude = create_gemma3_model(vocab_size=32768)\n",
    "\n",
    "model_save_path = \"model_2.pth\"\n",
    "# check if saved model exists\n",
    "if os.path.exists(model_save_path):\n",
    "    model_claude.load_state_dict(torch.load(model_save_path))\n",
    "    print(\"loaded model from\", model_save_path)\n",
    "else:\n",
    "    from transformers import AutoTokenizer, AutoModelForCausalLM\n",
    "    from tokenizer_matcher import TokenizerMatcher\n",
    "\n",
    "    gemma_tokenizer = AutoTokenizer.from_pretrained(\"google/gemma-3-270m-it\")\n",
    "    gemma_model = AutoModelForCausalLM.from_pretrained(\"google/gemma-3-270m-it\")\n",
    "    model_state = gemma_model.state_dict()\n",
    "    model_state.pop('lm_head.weight')\n",
    "    model_state.pop('model.embed_tokens.weight')\n",
    "    model_claude.load_state_dict(model_state, strict=False)\n",
    "    print(\"loaded model from gemma model\")\n",
    "\n",
    "    tokenizer_matcher = TokenizerMatcher(\n",
    "        source_tokenizer=gemma_tokenizer,\n",
    "        target_tokenizer=tr_tokenizer,\n",
    "        source_model=gemma_model,\n",
    "        target_model=model_claude\n",
    "    )\n",
    "\n",
    "    matched_embeddings = tokenizer_matcher.match_embeddings(adding_style=\"sum\")\n",
    "    tokenizer_matcher.change_target_model_embeddings(matched_embeddings)\n",
    "    print(\"matched embeddings\")\n",
    "    # save claude model using torch \n",
    "    torch.save(model_claude.state_dict(), model_save_path)\n",
    "    print(\"saved model to\", model_save_path)\n",
    "\n",
    "model_claude = model_claude.to(device)\n",
    "model_claude"
   ]
  },
  {
   "cell_type": "code",
   "execution_count": 3,
   "id": "3625d71e",
   "metadata": {},
   "outputs": [
    {
     "data": {
      "text/plain": [
       "(Dataset({\n",
       "     features: ['id', 'url', 'title', 'raw_mediawiki', 'text'],\n",
       "     num_rows: 641443\n",
       " }),\n",
       " 8246759)"
      ]
     },
     "execution_count": 3,
     "metadata": {},
     "output_type": "execute_result"
    }
   ],
   "source": [
    "from datasets import load_dataset\n",
    "\n",
    "# Load the English dataset from the latest dump\n",
    "ds_wiki = load_dataset(\"omarkamali/wikipedia-monthly\", \"20250703.tr\", split=\"train\")\n",
    "# first 100 to text with title\n",
    "text = \"\"\n",
    "for i in range(1000):\n",
    "    text += ds_wiki[i][\"title\"] + \"\\n\" + ds_wiki[i][\"text\"] + \"\\n\"\n",
    "\n",
    "while \"\\n \" in text:\n",
    "    text = text.replace(\"\\n \", \"\\n\")\n",
    "\n",
    "while \"\\n\\n\" in text:\n",
    "    text = text.replace(\"\\n\\n\", \"\\n\")\n",
    "\n",
    "\n",
    "with open(\"data.txt\", \"w\", encoding=\"utf-8\") as f:\n",
    "    f.write(text)\n",
    "\n",
    "ds_wiki, len(text)"
   ]
  },
  {
   "cell_type": "code",
   "execution_count": 3,
   "id": "be53cab7",
   "metadata": {},
   "outputs": [
    {
     "name": "stdout",
     "output_type": "stream",
     "text": [
      "TextDataset: 18471 tokens, seq_len=512, stride=1\n",
      "Calculated sequences: 17960\n",
      "TextDataset: 1010 tokens, seq_len=512, stride=1\n",
      "Calculated sequences: 499\n"
     ]
    }
   ],
   "source": [
    "from text_dataset import create_dataset, create_dataloader\n",
    "\n",
    "with open(\"data.txt\", \"r\", encoding=\"utf-8\") as f:\n",
    "    text = f.read()\n",
    "\n",
    "seq_len = 512\n",
    "stride = 1\n",
    "batch_size = 12\n",
    "shuffle = False\n",
    "\n",
    "train_dataset = create_dataset(text[:40000], tr_tokenizer, seq_len, stride, device)\n",
    "# dataset = create_or_load_dataset(text[:50000], tr_tokenizer, seq_len, stride, device, cache_path=\"dataset/wiki1\")\n",
    "train_dataloader = create_dataloader(train_dataset, batch_size, shuffle)\n",
    "\n",
    "valid_dataset = create_dataset(text[40000:42000], tr_tokenizer, seq_len, stride, device)\n",
    "valid_dataloader = create_dataloader(valid_dataset, batch_size, shuffle)"
   ]
  },
  {
   "cell_type": "code",
   "execution_count": 32,
   "id": "3e332789",
   "metadata": {},
   "outputs": [
    {
     "data": {
      "text/plain": [
       "'Merhaba, nasılsın? larlabirlik ler  lerpaketpaketyöneticiesahip.indir<uppercase>'"
      ]
     },
     "execution_count": 32,
     "metadata": {},
     "output_type": "execute_result"
    }
   ],
   "source": [
    "prompt = \"Merhaba, nasılsın? \"\n",
    "model_claude.eval()\n",
    "tr_tokenizer.encode(prompt)\n",
    "input_ids = torch.tensor(tr_tokenizer.encode(prompt)).unsqueeze(0)\n",
    "output = model_claude.generate(input_ids)\n",
    "text = tr_tokenizer.decode(output[0].tolist())\n",
    "text"
   ]
  },
  {
   "cell_type": "code",
   "execution_count": null,
   "id": "4c2af5a6",
   "metadata": {},
   "outputs": [
    {
     "data": {
      "text/plain": [
       "'Merhaba, nasılsın? ,toylar\\nili\\nüye ler\\nüye si larını   lar\\n r\\nlinx lar dağıt  sısistem ne ler   a'"
      ]
     },
     "execution_count": 25,
     "metadata": {},
     "output_type": "execute_result"
    }
   ],
   "source": []
  },
  {
   "cell_type": "code",
   "execution_count": 4,
   "id": "01e25a97",
   "metadata": {},
   "outputs": [],
   "source": [
    "prompt = \"Merhaba, nasılsın? \"\n",
    "\n",
    "@torch.no_grad()\n",
    "def print_example(model: torch.nn.Module, prompt: str, epoch: int, loss: float):\n",
    "  model.eval()\n",
    "  tr_tokenizer.encode(prompt)\n",
    "  input_ids = torch.tensor(tr_tokenizer.encode(prompt)).unsqueeze(0)\n",
    "  output = model.generate(input_ids, max_length=10)\n",
    "  text = tr_tokenizer.decode(output[0].tolist())\n",
    "  result_dict = {\n",
    "    \"epoch\": epoch,\n",
    "    \"loss\": loss,\n",
    "    \"text\": text,\n",
    "    \"date\": datetime.now().strftime(\"%Y-%m-%d %H:%M:%S\")\n",
    "  }\n",
    "  if not os.path.exists(\"epoch_examples.json\"):\n",
    "    with open(\"epoch_examples.json\", \"w\", encoding=\"utf-8\") as f:\n",
    "      json.dump([], f, ensure_ascii=False, indent=2)\n",
    "  with open(\"epoch_examples.json\", \"r\", encoding=\"utf-8\") as f:\n",
    "    result_list = json.load(f)\n",
    "  result_list.append(result_dict)\n",
    "  with open(\"epoch_examples.json\", \"w\", encoding=\"utf-8\") as f:\n",
    "    json.dump(result_list, f, ensure_ascii=False, indent=2)\n",
    "\n",
    "print_example(model_claude, prompt, 0, 0)"
   ]
  },
  {
   "cell_type": "code",
   "execution_count": 5,
   "id": "821f395f",
   "metadata": {},
   "outputs": [
    {
     "name": "stdout",
     "output_type": "stream",
     "text": [
      "Warmup steps: 75\n",
      "Total steps: 14970\n",
      "Learning rate: 0.005\n",
      "Min learning rate: 1e-06\n"
     ]
    },
    {
     "name": "stderr",
     "output_type": "stream",
     "text": [
      "Training:  60%|██████    | 8995/14970 [6:18:55<6:14:09,  3.76s/it, Epoch=7/10, Step=12/1497, Loss=10.3049, LR=0.003991]   "
     ]
    },
    {
     "ename": "KeyboardInterrupt",
     "evalue": "",
     "output_type": "error",
     "traceback": [
      "\u001b[31m---------------------------------------------------------------------------\u001b[39m",
      "\u001b[31mKeyboardInterrupt\u001b[39m                         Traceback (most recent call last)",
      "\u001b[36mCell\u001b[39m\u001b[36m \u001b[39m\u001b[32mIn[5]\u001b[39m\u001b[32m, line 91\u001b[39m\n\u001b[32m     88\u001b[39m     progress_bar.close()\n\u001b[32m     89\u001b[39m     \u001b[38;5;28mprint\u001b[39m(\u001b[33m\"\u001b[39m\u001b[33mDone\u001b[39m\u001b[33m\"\u001b[39m)\n\u001b[32m---> \u001b[39m\u001b[32m91\u001b[39m \u001b[43mtrain\u001b[49m\u001b[43m(\u001b[49m\u001b[43mmodel_claude\u001b[49m\u001b[43m,\u001b[49m\u001b[43m \u001b[49m\u001b[43mtrain_dataloader\u001b[49m\u001b[43m)\u001b[49m\n",
      "\u001b[36mCell\u001b[39m\u001b[36m \u001b[39m\u001b[32mIn[5]\u001b[39m\u001b[32m, line 55\u001b[39m, in \u001b[36mtrain\u001b[39m\u001b[34m(model, train_dataloader, max_epochs, gradient_accumulation_steps)\u001b[39m\n\u001b[32m     53\u001b[39m loss = outputs[\u001b[33m'\u001b[39m\u001b[33mloss\u001b[39m\u001b[33m'\u001b[39m] / gradient_accumulation_steps\n\u001b[32m     54\u001b[39m loss.backward()\n\u001b[32m---> \u001b[39m\u001b[32m55\u001b[39m accumulation_loss += \u001b[43mloss\u001b[49m\u001b[43m.\u001b[49m\u001b[43mitem\u001b[49m\u001b[43m(\u001b[49m\u001b[43m)\u001b[49m\n\u001b[32m     56\u001b[39m loss_history.append(loss.item())\n\u001b[32m     57\u001b[39m \u001b[38;5;28;01mwith\u001b[39;00m \u001b[38;5;28mopen\u001b[39m(\u001b[33m\"\u001b[39m\u001b[33mloss_history.json\u001b[39m\u001b[33m\"\u001b[39m, \u001b[33m\"\u001b[39m\u001b[33mw\u001b[39m\u001b[33m\"\u001b[39m, encoding=\u001b[33m\"\u001b[39m\u001b[33mutf-8\u001b[39m\u001b[33m\"\u001b[39m) \u001b[38;5;28;01mas\u001b[39;00m f:\n",
      "\u001b[31mKeyboardInterrupt\u001b[39m: "
     ]
    }
   ],
   "source": [
    "loss_history = []\n",
    "\n",
    "def train(\n",
    "        model: torch.nn.Module,\n",
    "        train_dataloader: torch.utils.data.DataLoader,\n",
    "        max_epochs: int = 10,\n",
    "        gradient_accumulation_steps: int = 2\n",
    "    ):\n",
    "    # model = torch.compile(model).to(device)\n",
    "    model.train()  # Changed from model.compile() to model.train()\n",
    "    accumulation_loss = 0.0\n",
    "    min_learning_rate = 1e-6\n",
    "    learning_rate = 5e-3\n",
    "    # Calculate total steps across all epochs\n",
    "    total_steps = len(train_dataloader) * max_epochs\n",
    "    warmup_steps = max(1, round(total_steps * 0.005))  # ~0.6% warmup; ensure >=1\n",
    "\n",
    "    # Create optimizer - fixed to use model parameter instead of model_claude\n",
    "    optimizer = AdamW(\n",
    "        model.parameters(),\n",
    "        lr=5e-3,\n",
    "        weight_decay=0.1\n",
    "    )\n",
    "\n",
    "    # create a scheduler\n",
    "    warmup_scheduler = LinearLR(\n",
    "        optimizer,\n",
    "        start_factor=max(min_learning_rate / learning_rate, 1e-6),\n",
    "        end_factor=1.0,\n",
    "        total_iters=warmup_steps\n",
    "    )\n",
    "    cosine_scheduler = CosineAnnealingLR(\n",
    "        optimizer,\n",
    "        T_max=max(1, total_steps - warmup_steps),\n",
    "        eta_min=min_learning_rate\n",
    "    )\n",
    "    global_step = 0\n",
    "\n",
    "    # print information of optimizer and training parameters\n",
    "    print(f\"Warmup steps: {warmup_steps}\")\n",
    "    print(f\"Total steps: {total_steps}\")\n",
    "    print(f\"Learning rate: {learning_rate}\")\n",
    "    print(f\"Min learning rate: {min_learning_rate}\")\n",
    "\n",
    "    # Single progress bar for all epochs\n",
    "    progress_bar = tqdm(total=total_steps, desc=\"Training\", leave=True)\n",
    "\n",
    "    for epoch in range(max_epochs):\n",
    "        for step, batch in enumerate(train_dataloader):\n",
    "            input_ids, labels = batch\n",
    "            # Fixed to use model parameter instead of model_claude\n",
    "            outputs = model(input_ids, labels=labels)\n",
    "            loss = outputs['loss'] / gradient_accumulation_steps\n",
    "            loss.backward()\n",
    "            accumulation_loss += loss.item()\n",
    "            loss_history.append(loss.item())\n",
    "            with open(\"loss_history.json\", \"w\", encoding=\"utf-8\") as f:\n",
    "                json.dump(loss_history, f, ensure_ascii=False, indent=2)\n",
    "            \n",
    "            if (step + 1) % gradient_accumulation_steps == 0:\n",
    "                optimizer.step()\n",
    "                optimizer.zero_grad(set_to_none=True)\n",
    "\n",
    "                # drive exactly one scheduler, without epoch arguments\n",
    "                if global_step < warmup_steps:\n",
    "                    warmup_scheduler.step()\n",
    "                else:\n",
    "                    cosine_scheduler.step()\n",
    "\n",
    "                global_step += 1\n",
    "\n",
    "                progress_bar.set_postfix({\n",
    "                    \"Epoch\": f\"{epoch + 1}/{max_epochs}\",\n",
    "                    \"Step\": f\"{step + 1}/{len(train_dataloader)}\",\n",
    "                    \"Loss\": f\"{accumulation_loss:.4f}\",\n",
    "                    \"LR\": f\"{optimizer.param_groups[0]['lr']:.6f}\"\n",
    "                })\n",
    "                accumulation_loss = 0.0\n",
    "            \n",
    "            progress_bar.update(1)\n",
    "\n",
    "            if step % 250 == 0:\n",
    "                print_example(model, prompt, epoch, accumulation_loss)\n",
    "        # save model\n",
    "        torch.save(model.state_dict(), f\"model_{epoch}.pth\")\n",
    "        model.train()\n",
    "\n",
    "    progress_bar.close()\n",
    "    print(\"Done\")\n",
    "\n",
    "train(model_claude, train_dataloader)"
   ]
  },
  {
   "cell_type": "code",
   "execution_count": 6,
   "id": "70d067fa",
   "metadata": {},
   "outputs": [
    {
     "data": {
      "image/png": "[encoded data removed]",
      "text/plain": [
       "<Figure size 640x480 with 1 Axes>"
      ]
     },
     "metadata": {},
     "output_type": "display_data"
    }
   ],
   "source": [
    "# plot loss history\n",
    "import matplotlib.pyplot as plt\n",
    "import json\n",
    "\n",
    "with open(\"loss_history.json\", \"r\", encoding=\"utf-8\") as f:\n",
    "    loss_history = json.load(f)\n",
    "\n",
    "plt.plot(loss_history)\n",
    "plt.show()"
   ]
  }
 ],
 "metadata": {
  "kernelspec": {
   "display_name": "Python 3",
   "language": "python",
   "name": "python3"
  },
  "language_info": {
   "codemirror_mode": {
    "name": "ipython",
    "version": 3
   },
   "file_extension": ".py",
   "mimetype": "text/x-python",
   "name": "python",
   "nbconvert_exporter": "python",
   "pygments_lexer": "ipython3",
   "version": "3.13.3"
  }
 },
 "nbformat": 4,
 "nbformat_minor": 5
}
