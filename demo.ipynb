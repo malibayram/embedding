{
 "cells": [
  {
   "cell_type": "code",
   "execution_count": null,
   "id": "9d0eff77",
   "metadata": {},
   "outputs": [],
   "source": [
    "%pip install turkish-tokenizer -U\n"
   ]
  },
  {
   "cell_type": "code",
   "execution_count": null,
   "id": "0182b203",
   "metadata": {},
   "outputs": [],
   "source": [
    "# Load model directly\n",
    "from transformers import AutoTokenizer, AutoModelForCausalLM\n",
    "\n",
    "tokenizer = AutoTokenizer.from_pretrained(\"google/gemma-3-270m\")\n",
    "model = AutoModelForCausalLM.from_pretrained(\"google/gemma-3-270m\")\n"
   ]
  },
  {
   "cell_type": "code",
   "execution_count": null,
   "id": "54cdb55b",
   "metadata": {},
   "outputs": [],
   "source": [
    "from gemma_model import GemmaForCausalLM, get_config_for_270m\n",
    "\n",
    "config_270m = get_config_for_270m(\"float32\")\n",
    "\n",
    "gemma_model = GemmaForCausalLM(config_270m, tokenizer)\n",
    "gemma_model.load_weights_from_hf(model.model.state_dict())\n",
    "# gemma_model.from_pretrained(\"gemma-3-270m-hf\")\n"
   ]
  },
  {
   "cell_type": "code",
   "execution_count": null,
   "id": "e590b486",
   "metadata": {},
   "outputs": [],
   "source": [
    "gemma_model.save_pretrained(\"gemma-3-270m-hf\")"
   ]
  },
  {
   "cell_type": "code",
   "execution_count": null,
   "id": "b213325c",
   "metadata": {},
   "outputs": [],
   "source": [
    "from turkish_tokenizer import TurkishTokenizer\n",
    "\n",
    "# Tokenizer'ı başlat\n",
    "tr_tokenizer = TurkishTokenizer()\n",
    "\n",
    "# Metin tokenizasyonu\n",
    "text = \"\"\"\n",
    "Ali Ata Bak▁ aliler ahmetler selmanlar da bizde onlar da testte kitapta kitabını okudum bu işe\n",
    " \n",
    " burnunu sokma\n",
    "Burun buruna bir kaza\\toldu\n",
    " \"\"\"\n",
    "tokens = tr_tokenizer.encode(text)\n",
    "print(\"Token IDs:\", tokens)\n",
    "\n",
    "# Token'ları metne geri çevir\n",
    "decoded_text = tr_tokenizer.decode(tokens)\n",
    "print(\"Decoded:\", decoded_text)"
   ]
  },
  {
   "cell_type": "code",
   "execution_count": null,
   "id": "1e29352c",
   "metadata": {},
   "outputs": [],
   "source": [
    "from gemma_model import GemmaForCausalLM, get_config_for_270m_tr_tokenizer\n",
    "\n",
    "config_270m = get_config_for_270m_tr_tokenizer(\"float32\")\n",
    "\n",
    "gemma_model = GemmaForCausalLM(config_270m, tr_tokenizer)\n",
    "# gemma_model.load_weights_from_hf(model.model.state_dict())\n",
    "gemma_model.from_pretrained(\"gemma-3-270m-tr-tokenizer\")\n"
   ]
  },
  {
   "cell_type": "code",
   "execution_count": null,
   "id": "be5e7010",
   "metadata": {},
   "outputs": [],
   "source": [
    "gemma_model"
   ]
  },
  {
   "cell_type": "code",
   "execution_count": null,
   "id": "ed9201cf",
   "metadata": {},
   "outputs": [],
   "source": []
  },
  {
   "cell_type": "code",
   "execution_count": null,
   "id": "ff85a5ec",
   "metadata": {},
   "outputs": [],
   "source": [
    "gemma_model.generate(\"Merhaba, nasıl yardımcı olabilirim?\")\n"
   ]
  },
  {
   "cell_type": "code",
   "execution_count": null,
   "id": "c6288685",
   "metadata": {},
   "outputs": [],
   "source": [
    "import torch\n",
    "\n",
    "gemma_model.embedder(torch.tensor([157])).shape"
   ]
  },
  {
   "cell_type": "code",
   "execution_count": null,
   "id": "bfdec085",
   "metadata": {},
   "outputs": [],
   "source": [
    "model.model.embed_tokens(torch.tensor([30158]))"
   ]
  },
  {
   "cell_type": "code",
   "execution_count": null,
   "id": "2c7c02ee",
   "metadata": {},
   "outputs": [],
   "source": [
    "model.model.layers[4].mlp.gate_proj.weight[234][:15], gemma_model.model.layers[4].mlp.gate_proj.weight[234][:15]"
   ]
  },
  {
   "cell_type": "code",
   "execution_count": null,
   "id": "e60b9234",
   "metadata": {},
   "outputs": [],
   "source": [
    "gemma_model.save_pretrained(\"gemma-3-270m-tr-tokenizer\")"
   ]
  },
  {
   "cell_type": "code",
   "execution_count": null,
   "id": "7490419b",
   "metadata": {},
   "outputs": [],
   "source": [
    "import torch\n",
    "tensors = tokenizer.encode(\"Merhaba, nasıl yardımcı olabilirim?\")\n",
    "tensors = torch.tensor(tensors)\n",
    "tensors = tensors.unsqueeze(0)\n",
    "tensors = tensors.to(\"cpu\")\n",
    "\n",
    "ids = model.generate(tensors)\n",
    "ids"
   ]
  },
  {
   "cell_type": "code",
   "execution_count": null,
   "id": "54019b2b",
   "metadata": {},
   "outputs": [],
   "source": [
    "tokenizer.decode(ids[0])"
   ]
  },
  {
   "cell_type": "code",
   "execution_count": null,
   "id": "509528d6",
   "metadata": {},
   "outputs": [],
   "source": [
    "model_1b = AutoModelForCausalLM.from_pretrained(\"google/gemma-3-1b-pt\")\n",
    "model_1b"
   ]
  },
  {
   "cell_type": "code",
   "execution_count": null,
   "id": "29d46f28",
   "metadata": {},
   "outputs": [],
   "source": [
    "all_tr_tokens = tr_tokenizer.get_vocab()\n",
    "\n",
    "print(len(all_tr_tokens))\n",
    "print(len(tr_tokenizer.reverse_dict))\n",
    "print(tr_tokenizer.vocab_size)"
   ]
  },
  {
   "cell_type": "code",
   "execution_count": null,
   "id": "4235ab7b",
   "metadata": {},
   "outputs": [],
   "source": [
    "all_tr_tokens[\"ali\"]"
   ]
  },
  {
   "cell_type": "code",
   "execution_count": null,
   "id": "e1f9c10b",
   "metadata": {},
   "outputs": [],
   "source": []
  },
  {
   "cell_type": "code",
   "execution_count": null,
   "id": "c8e0b5db",
   "metadata": {},
   "outputs": [],
   "source": [
    "from tokenizer_matcher import TokenizerMatcher\n",
    "\n",
    "\n",
    "tokenizer_matcher = TokenizerMatcher(tokenizer, tr_tokenizer, model, gemma_model)\n",
    "matched_embeddings = tokenizer_matcher.match_embeddings()\n",
    "\n",
    "tokenizer_matcher.change_target_model_embeddings(matched_embeddings)\n",
    "\n",
    "gemma_model.generate(\"Merhaba, nasıl yardımcı olabilirim?\")"
   ]
  },
  {
   "cell_type": "code",
   "execution_count": null,
   "id": "1ff9ac5d",
   "metadata": {},
   "outputs": [],
   "source": [
    "matched_tokens = tokenizer_matcher.match_tokens()\n",
    "matched_tokens[157]\n"
   ]
  },
  {
   "cell_type": "code",
   "execution_count": null,
   "id": "23e99dd6",
   "metadata": {},
   "outputs": [],
   "source": [
    "tokenizer.vocab_size"
   ]
  },
  {
   "cell_type": "code",
   "execution_count": null,
   "id": "8fd445ab",
   "metadata": {},
   "outputs": [],
   "source": [
    "token = \"soğucuk\"\n",
    "ids = tokenizer.encode(token)\n",
    "tr_ids = tr_tokenizer.encode(token)\n",
    "\n",
    "print(ids)\n",
    "print(tr_ids)\n",
    "\n",
    "print(tokenizer.tokenize(token))\n",
    "print(tr_tokenizer.tokenize(token))\n",
    "print(tr_tokenizer.decode(tr_ids))"
   ]
  },
  {
   "cell_type": "code",
   "execution_count": null,
   "id": "088d4214",
   "metadata": {},
   "outputs": [],
   "source": [
    "example_ids = [157, 165, 5]\n"
   ]
  },
  {
   "cell_type": "code",
   "execution_count": null,
   "id": "cac7a399",
   "metadata": {},
   "outputs": [],
   "source": [
    "tokenizer.eos_token_id"
   ]
  },
  {
   "cell_type": "code",
   "execution_count": null,
   "id": "4cb86fac",
   "metadata": {},
   "outputs": [],
   "source": [
    "model.model.save_pretrained(\"gemma-3-270m\")"
   ]
  },
  {
   "cell_type": "code",
   "execution_count": null,
   "id": "958463f4",
   "metadata": {},
   "outputs": [],
   "source": [
    "model.model.state_dict().keys()\n"
   ]
  },
  {
   "cell_type": "code",
   "execution_count": null,
   "id": "645831b2",
   "metadata": {},
   "outputs": [],
   "source": [
    "model.model.embed_tokens.weight[0][:10]"
   ]
  },
  {
   "cell_type": "code",
   "execution_count": null,
   "id": "833c65a7",
   "metadata": {},
   "outputs": [],
   "source": [
    "model.lm_head.weight[0][:10]"
   ]
  },
  {
   "cell_type": "code",
   "execution_count": null,
   "id": "512556d6",
   "metadata": {},
   "outputs": [],
   "source": [
    "\n"
   ]
  },
  {
   "cell_type": "code",
   "execution_count": null,
   "id": "a67a9824",
   "metadata": {},
   "outputs": [],
   "source": [
    "gemma_model.generate(\"Merhaba, nasıl yardımcı olabilirim?\")"
   ]
  }
 ],
 "metadata": {
  "kernelspec": {
   "display_name": "Python 3",
   "language": "python",
   "name": "python3"
  },
  "language_info": {
   "codemirror_mode": {
    "name": "ipython",
    "version": 3
   },
   "file_extension": ".py",
   "mimetype": "text/x-python",
   "name": "python",
   "nbconvert_exporter": "python",
   "pygments_lexer": "ipython3",
   "version": "3.13.3"
  }
 },
 "nbformat": 4,
 "nbformat_minor": 5
}
